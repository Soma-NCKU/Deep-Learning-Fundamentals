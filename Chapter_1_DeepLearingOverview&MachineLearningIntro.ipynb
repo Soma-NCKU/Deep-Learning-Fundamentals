{
 "cells": [
  {
   "cell_type": "markdown",
   "metadata": {},
   "source": [
    "# Machine Learning & Deep Learning Fundamentals (1 - 7)\n",
    "\n",
    "## Deep Learning \n",
    "\n",
    "### Discussion\n",
    "\n",
    "Deep learning terms and topics\n",
    "\n",
    "- Understand what they mean\n",
    "- How they fit to the overall deep learning framework\n",
    "- How certain topics are implemented in code\n",
    "    - Using keras"
   ]
  },
  {
   "cell_type": "code",
   "execution_count": null,
   "metadata": {},
   "outputs": [],
   "source": []
  },
  {
   "cell_type": "markdown",
   "metadata": {},
   "source": [
    "# Machine Learning \n",
    "\n",
    "Machine Learning is the practice of using algorithms to analyze data, learn from that data, and then make a determination or prediction about the new data.\n",
    "\n",
    "### Machine Learning vs. Traditional Programming \n",
    "\n",
    "Example: Analyzing the sentament of a popular media outlet and classifiying that sentiment as positive or negative "
   ]
  },
  {
   "cell_type": "code",
   "execution_count": null,
   "metadata": {},
   "outputs": [],
   "source": []
  },
  {
   "cell_type": "markdown",
   "metadata": {},
   "source": [
    "# Deep Learning (DL)\n",
    "\n",
    "### Concepts, terms and tools within deep learning\n",
    "\n",
    "#### Definition:\n",
    "\n",
    " - Deep Learning is a subfield of machine learning that uses algorithm inspired by the structure and function of the brain's \n",
    "    neural networks.\n",
    " - As a subfield of ML, DL to analyze data, learn from the data, and then make a determination or prediction about the new\n",
    "    data.\n",
    "    \n",
    "     \n",
    "**Supervised Learning** occurs when deep learning model learns and makes inferences from data that has already been labeled.\n",
    "\n",
    "**Unsupervised Learning** occurs when the model learns and makes interfernce from unlabeled data.\n",
    "\n",
    "**Labeled vs. Unlabeled example**\n",
    "\n",
    "- Classify images of cats and dogs\n",
    "\n",
    "**Artifical Neural Networks**\n",
    "\n",
    "Artifical Neural Networks are deep learning models that are based on the structure of the brain's neural networks.\n",
    "\n",
    "- Artifical neural networks are used interchangeably with the terms.\n",
    "    - neural net\n",
    "    - net \n",
    "    - model\n",
    "    "
   ]
  },
  {
   "cell_type": "code",
   "execution_count": null,
   "metadata": {},
   "outputs": [],
   "source": []
  },
  {
   "cell_type": "markdown",
   "metadata": {},
   "source": [
    "# Artifical Neural Networks (ANNs)\n",
    "\n",
    "Artifical neural networks are computing systems that are inspired by the brain's neural networks.\n",
    "\n",
    "- These networks are based on a collection of connected units called **artifical neurons**, or **neurons**.\n",
    "- Each connection between neurons can transmit a signal from one neuron to another.\n",
    "- The receiving neuron processes the signal and signals downstream neurons connected to it.\n",
    "- Neurons are organised in layers.\n",
    "    - Input layers\n",
    "    - Hidden layers\n",
    "    - Output layers"
   ]
  },
  {
   "cell_type": "markdown",
   "metadata": {},
   "source": [
    "# Keras Sequential Model\n",
    "\n",
    "The Sequential model is a linear stack of layers.\n",
    "\n",
    "Sequential - instance; ([ defination of different layer ]) -- constructor \n",
    "Dense - object \n",
    "\n"
   ]
  },
  {
   "cell_type": "code",
   "execution_count": 1,
   "metadata": {},
   "outputs": [
    {
     "ename": "ModuleNotFoundError",
     "evalue": "No module named 'kears'",
     "output_type": "error",
     "traceback": [
      "\u001b[1;31m---------------------------------------------------------------------------\u001b[0m",
      "\u001b[1;31mModuleNotFoundError\u001b[0m                       Traceback (most recent call last)",
      "\u001b[1;32m<ipython-input-1-aaa13ee39eb8>\u001b[0m in \u001b[0;36m<module>\u001b[1;34m\u001b[0m\n\u001b[0;32m      1\u001b[0m \u001b[1;32mfrom\u001b[0m \u001b[0mkeras\u001b[0m\u001b[1;33m.\u001b[0m\u001b[0mmodels\u001b[0m \u001b[1;32mimport\u001b[0m \u001b[0mSequential\u001b[0m\u001b[1;33m\u001b[0m\u001b[1;33m\u001b[0m\u001b[0m\n\u001b[1;32m----> 2\u001b[1;33m \u001b[1;32mfrom\u001b[0m \u001b[0mkears\u001b[0m\u001b[1;33m.\u001b[0m\u001b[0mlayers\u001b[0m \u001b[1;32mimport\u001b[0m \u001b[0mDense\u001b[0m\u001b[1;33m,\u001b[0m \u001b[0mActivation\u001b[0m\u001b[1;33m\u001b[0m\u001b[1;33m\u001b[0m\u001b[0m\n\u001b[0m\u001b[0;32m      3\u001b[0m \u001b[1;33m\u001b[0m\u001b[0m\n\u001b[0;32m      4\u001b[0m model = Sequential([\n\u001b[0;32m      5\u001b[0m     \u001b[0mDense\u001b[0m\u001b[1;33m(\u001b[0m\u001b[1;36m32\u001b[0m\u001b[1;33m,\u001b[0m \u001b[0minput_shape\u001b[0m \u001b[1;33m=\u001b[0m \u001b[1;33m(\u001b[0m\u001b[1;36m10\u001b[0m\u001b[1;33m,\u001b[0m\u001b[1;33m)\u001b[0m\u001b[1;33m,\u001b[0m \u001b[0mactivation\u001b[0m \u001b[1;33m=\u001b[0m \u001b[1;34m'relu'\u001b[0m\u001b[1;33m)\u001b[0m\u001b[1;33m,\u001b[0m\u001b[1;33m\u001b[0m\u001b[1;33m\u001b[0m\u001b[0m\n",
      "\u001b[1;31mModuleNotFoundError\u001b[0m: No module named 'kears'"
     ]
    }
   ],
   "source": [
    "from keras.models import Sequential\n",
    "from kears.layers import Dense, Activation\n",
    "\n",
    "model = Sequential([\n",
    "    Dense(5, input_shape = (3,), activation = 'relu'),\n",
    "    Dense(2, activation = 'softmax')\n",
    "])"
   ]
  },
  {
   "cell_type": "code",
   "execution_count": null,
   "metadata": {},
   "outputs": [],
   "source": []
  },
  {
   "cell_type": "markdown",
   "metadata": {},
   "source": [
    "# Layers In A Neural Network Explained\n",
    "\n",
    "Artifical neural network are typically organized in layers. Different type of layers include\n",
    "\n",
    "- Dense layers (also known as fully connected layers)\n",
    "- Convolutional layers\n",
    "- Pooling layers\n",
    "- Recurrent layers\n",
    "- Normalization layers\n",
    "- Many others"
   ]
  },
  {
   "cell_type": "code",
   "execution_count": null,
   "metadata": {},
   "outputs": [],
   "source": [
    "import numpy as np\n",
    "from scipy import ndimage\n",
    "import matplotlib.pyplot as plt\n",
    "%matplotlib inline\n",
    "\n",
    "img = np.expand_dims(ndimage.imread('NN.jpg'),0)\n",
    "plt.imshow(img[0])"
   ]
  },
  {
   "cell_type": "code",
   "execution_count": null,
   "metadata": {},
   "outputs": [],
   "source": []
  },
  {
   "cell_type": "markdown",
   "metadata": {},
   "source": [
    "# Activation Functions\n",
    "\n",
    "In an artificial neural network, the activation function of a neuron defines the output of that neuron given a set of inputs.\n",
    "\n",
    "- Biologically inspirsed by activity in our brians, where different neurons fire, or are activated by different stimulli.\n"
   ]
  },
  {
   "cell_type": "code",
   "execution_count": null,
   "metadata": {},
   "outputs": [],
   "source": [
    "from keras.models import Sequential\n",
    "from keras.layers import Dense, Activation\n",
    "\n",
    "model = Sequential([\n",
    "    Dense(5, input_shape = (3,), activation = 'relu')\n",
    "])"
   ]
  },
  {
   "cell_type": "code",
   "execution_count": null,
   "metadata": {},
   "outputs": [],
   "source": [
    "# Anaother way of defining the dense layers and activation\n",
    "\n",
    "model = Sequential()\n",
    "model.add(Dense(5, input_shape = (3,)))\n",
    "model.add(Activation('relu'))"
   ]
  },
  {
   "cell_type": "code",
   "execution_count": null,
   "metadata": {},
   "outputs": [],
   "source": []
  },
  {
   "cell_type": "markdown",
   "metadata": {},
   "source": [
    "# Training\n",
    "\n",
    "**Solving an optimization problem**\n",
    "\n",
    "- Optimizing weights\n",
    "    - with Stochastic Gradient Descent (SGD)\n",
    "- Objective: Minimize the loss function"
   ]
  },
  {
   "cell_type": "markdown",
   "metadata": {},
   "source": [
    "# Learning"
   ]
  },
  {
   "cell_type": "code",
   "execution_count": null,
   "metadata": {},
   "outputs": [],
   "source": [
    "import keras\n",
    "from keras import backend as k\n",
    "from keras.models import Sequential\n",
    "from keras.layers import Activation\n",
    "from keras.layers.core import Dense\n",
    "from keras.optimizers import Adam\n",
    "from keras.metrics import categorical_crossentropy"
   ]
  },
  {
   "cell_type": "code",
   "execution_count": null,
   "metadata": {},
   "outputs": [],
   "source": [
    "model = Sequential([\n",
    "    Dense(5, input_shape = (3,), activation = 'relu'),\n",
    "    Dense(2, activation = 'softmax')\n",
    "])"
   ]
  },
  {
   "cell_type": "code",
   "execution_count": null,
   "metadata": {},
   "outputs": [],
   "source": [
    "model.compile(Adam(lr = 0.001), loss = 'sparse_categorical_crossentropy', metrics = ['accuracy'])"
   ]
  },
  {
   "cell_type": "code",
   "execution_count": null,
   "metadata": {},
   "outputs": [],
   "source": [
    "model.fit(scaled_train_samples, train_labels, batch_size = 10, epochs = 20, shuffle = True, verbose = 2)"
   ]
  }
 ],
 "metadata": {
  "kernelspec": {
   "display_name": "Python 3.6 (tensorflow)",
   "language": "python",
   "name": "tensorflow"
  },
  "language_info": {
   "codemirror_mode": {
    "name": "ipython",
    "version": 3
   },
   "file_extension": ".py",
   "mimetype": "text/x-python",
   "name": "python",
   "nbconvert_exporter": "python",
   "pygments_lexer": "ipython3",
   "version": "3.6.12"
  }
 },
 "nbformat": 4,
 "nbformat_minor": 4
}
